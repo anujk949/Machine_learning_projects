{
 "cells": [
  {
   "cell_type": "code",
   "execution_count": 1,
   "metadata": {},
   "outputs": [],
   "source": [
    "import pandas as pd"
   ]
  },
  {
   "cell_type": "code",
   "execution_count": 2,
   "metadata": {},
   "outputs": [
    {
     "data": {
      "text/html": [
       "<div>\n",
       "<style scoped>\n",
       "    .dataframe tbody tr th:only-of-type {\n",
       "        vertical-align: middle;\n",
       "    }\n",
       "\n",
       "    .dataframe tbody tr th {\n",
       "        vertical-align: top;\n",
       "    }\n",
       "\n",
       "    .dataframe thead th {\n",
       "        text-align: right;\n",
       "    }\n",
       "</style>\n",
       "<table border=\"1\" class=\"dataframe\">\n",
       "  <thead>\n",
       "    <tr style=\"text-align: right;\">\n",
       "      <th></th>\n",
       "      <th>0</th>\n",
       "    </tr>\n",
       "  </thead>\n",
       "  <tbody>\n",
       "    <tr>\n",
       "      <th>0</th>\n",
       "      <td>Stocks losses deepen as a key recession warnin...</td>\n",
       "    </tr>\n",
       "    <tr>\n",
       "      <th>1</th>\n",
       "      <td>RT @CallMeAhmjusAyn: The #economy.\\r\\n@FoxNews...</td>\n",
       "    </tr>\n",
       "    <tr>\n",
       "      <th>2</th>\n",
       "      <td>AP Explains: Is the US economy nearing a reces...</td>\n",
       "    </tr>\n",
       "    <tr>\n",
       "      <th>3</th>\n",
       "      <td>A @JobCreatorsUSA / https://t.co/JXEt7hQU4k su...</td>\n",
       "    </tr>\n",
       "    <tr>\n",
       "      <th>4</th>\n",
       "      <td>Who will stop mr. Mario Draghi and the ECB wit...</td>\n",
       "    </tr>\n",
       "  </tbody>\n",
       "</table>\n",
       "</div>"
      ],
      "text/plain": [
       "                                                   0\n",
       "0  Stocks losses deepen as a key recession warnin...\n",
       "1  RT @CallMeAhmjusAyn: The #economy.\\r\\n@FoxNews...\n",
       "2  AP Explains: Is the US economy nearing a reces...\n",
       "3  A @JobCreatorsUSA / https://t.co/JXEt7hQU4k su...\n",
       "4  Who will stop mr. Mario Draghi and the ECB wit..."
      ]
     },
     "execution_count": 2,
     "metadata": {},
     "output_type": "execute_result"
    }
   ],
   "source": [
    "int_twt = pd.read_csv('raw_tweets_economy.txt', sep='\\t', index_col=0)\n",
    "int_twt.head()"
   ]
  },
  {
   "cell_type": "code",
   "execution_count": 3,
   "metadata": {},
   "outputs": [
    {
     "data": {
      "text/plain": [
       "(500, 1)"
      ]
     },
     "execution_count": 3,
     "metadata": {},
     "output_type": "execute_result"
    }
   ],
   "source": [
    "int_twt.shape"
   ]
  },
  {
   "cell_type": "code",
   "execution_count": 5,
   "metadata": {},
   "outputs": [],
   "source": [
    "int_twt.columns = ['tweets']"
   ]
  },
  {
   "cell_type": "code",
   "execution_count": 6,
   "metadata": {},
   "outputs": [
    {
     "data": {
      "text/html": [
       "<div>\n",
       "<style scoped>\n",
       "    .dataframe tbody tr th:only-of-type {\n",
       "        vertical-align: middle;\n",
       "    }\n",
       "\n",
       "    .dataframe tbody tr th {\n",
       "        vertical-align: top;\n",
       "    }\n",
       "\n",
       "    .dataframe thead th {\n",
       "        text-align: right;\n",
       "    }\n",
       "</style>\n",
       "<table border=\"1\" class=\"dataframe\">\n",
       "  <thead>\n",
       "    <tr style=\"text-align: right;\">\n",
       "      <th></th>\n",
       "      <th>tweets</th>\n",
       "    </tr>\n",
       "  </thead>\n",
       "  <tbody>\n",
       "    <tr>\n",
       "      <th>0</th>\n",
       "      <td>Stocks losses deepen as a key recession warnin...</td>\n",
       "    </tr>\n",
       "    <tr>\n",
       "      <th>1</th>\n",
       "      <td>RT @CallMeAhmjusAyn: The #economy.\\r\\n@FoxNews...</td>\n",
       "    </tr>\n",
       "    <tr>\n",
       "      <th>2</th>\n",
       "      <td>AP Explains: Is the US economy nearing a reces...</td>\n",
       "    </tr>\n",
       "    <tr>\n",
       "      <th>3</th>\n",
       "      <td>A @JobCreatorsUSA / https://t.co/JXEt7hQU4k su...</td>\n",
       "    </tr>\n",
       "    <tr>\n",
       "      <th>4</th>\n",
       "      <td>Who will stop mr. Mario Draghi and the ECB wit...</td>\n",
       "    </tr>\n",
       "  </tbody>\n",
       "</table>\n",
       "</div>"
      ],
      "text/plain": [
       "                                              tweets\n",
       "0  Stocks losses deepen as a key recession warnin...\n",
       "1  RT @CallMeAhmjusAyn: The #economy.\\r\\n@FoxNews...\n",
       "2  AP Explains: Is the US economy nearing a reces...\n",
       "3  A @JobCreatorsUSA / https://t.co/JXEt7hQU4k su...\n",
       "4  Who will stop mr. Mario Draghi and the ECB wit..."
      ]
     },
     "execution_count": 6,
     "metadata": {},
     "output_type": "execute_result"
    }
   ],
   "source": [
    "int_twt.head()"
   ]
  },
  {
   "cell_type": "code",
   "execution_count": 10,
   "metadata": {},
   "outputs": [
    {
     "data": {
      "text/plain": [
       "array(['RT @elerianm: #Bloomberg on the $2 billion stimulus package announced today by the #HongKong government this morning.\\r\\n\\r\\nTargeting both the h…'],\n",
       "      dtype=object)"
      ]
     },
     "execution_count": 10,
     "metadata": {},
     "output_type": "execute_result"
    }
   ],
   "source": [
    "int_twt.tweets.sample().values"
   ]
  },
  {
   "cell_type": "code",
   "execution_count": 11,
   "metadata": {},
   "outputs": [],
   "source": [
    "tweets = int_twt.tweets.values"
   ]
  },
  {
   "cell_type": "code",
   "execution_count": 12,
   "metadata": {},
   "outputs": [
    {
     "data": {
      "text/plain": [
       "500"
      ]
     },
     "execution_count": 12,
     "metadata": {},
     "output_type": "execute_result"
    }
   ],
   "source": [
    "len(tweets)"
   ]
  },
  {
   "cell_type": "code",
   "execution_count": 13,
   "metadata": {},
   "outputs": [
    {
     "data": {
      "text/plain": [
       "array(['Stocks losses deepen as a key recession warning surfaces @GOP #economy #fail #collapse #recession #gop #greed… https://t.co/F8kazAixUk',\n",
       "       \"RT @CallMeAhmjusAyn: The #economy.\\r\\n@FoxNews @realDonaldTrump \\r\\n#Trump is an ejit.\\r\\n#maga #TrumpTrain2020 #sheeple are idiot's.\\r\\n#farming #Trad…\",\n",
       "       'AP Explains: Is the US economy nearing a recession? \\r\\n#Business\\r\\n#Economy\\r\\n#Recession\\r\\n#TradeWar\\r\\n#China\\r\\n#EU… https://t.co/0jtsR2kSxi',\n",
       "       'A @JobCreatorsUSA / https://t.co/JXEt7hQU4k survey completed Tuesday, 56% rated the #economy as good or excellent,… https://t.co/j1XMiptADx',\n",
       "       'Who will stop mr. Mario Draghi and the ECB with this counterproductive course of money dumping / zero interests? It… https://t.co/eweIrVuOK0'],\n",
       "      dtype=object)"
      ]
     },
     "execution_count": 13,
     "metadata": {},
     "output_type": "execute_result"
    }
   ],
   "source": [
    "tweets[:5]"
   ]
  },
  {
   "cell_type": "code",
   "execution_count": 14,
   "metadata": {},
   "outputs": [],
   "source": [
    "tweets_lower = [twt.lower() for twt in tweets]"
   ]
  },
  {
   "cell_type": "code",
   "execution_count": 15,
   "metadata": {},
   "outputs": [
    {
     "data": {
      "text/plain": [
       "['stocks losses deepen as a key recession warning surfaces @gop #economy #fail #collapse #recession #gop #greed… https://t.co/f8kazaixuk',\n",
       " \"rt @callmeahmjusayn: the #economy.\\r\\n@foxnews @realdonaldtrump \\r\\n#trump is an ejit.\\r\\n#maga #trumptrain2020 #sheeple are idiot's.\\r\\n#farming #trad…\",\n",
       " 'ap explains: is the us economy nearing a recession? \\r\\n#business\\r\\n#economy\\r\\n#recession\\r\\n#tradewar\\r\\n#china\\r\\n#eu… https://t.co/0jtsr2ksxi',\n",
       " 'a @jobcreatorsusa / https://t.co/jxet7hqu4k survey completed tuesday, 56% rated the #economy as good or excellent,… https://t.co/j1xmiptadx',\n",
       " 'who will stop mr. mario draghi and the ecb with this counterproductive course of money dumping / zero interests? it… https://t.co/eweirvuok0']"
      ]
     },
     "execution_count": 15,
     "metadata": {},
     "output_type": "execute_result"
    }
   ],
   "source": [
    "tweets_lower[:5]"
   ]
  },
  {
   "cell_type": "code",
   "execution_count": 17,
   "metadata": {},
   "outputs": [
    {
     "data": {
      "text/plain": [
       "\"rt @callmeahmjusayn: the #economy.\\r\\n@foxnews @realdonaldtrump \\r\\n#trump is an ejit.\\r\\n#maga #trumptrain2020 #sheeple are idiot's.\\r\\n#farming #trad…\""
      ]
     },
     "execution_count": 17,
     "metadata": {},
     "output_type": "execute_result"
    }
   ],
   "source": [
    "tweets_lower[1]"
   ]
  },
  {
   "cell_type": "code",
   "execution_count": 20,
   "metadata": {},
   "outputs": [
    {
     "data": {
      "text/plain": [
       "'@callmeahmjusayn'"
      ]
     },
     "execution_count": 20,
     "metadata": {},
     "output_type": "execute_result"
    }
   ],
   "source": [
    "import re\n",
    "re.search('@\\w+',tweets_lower[1]).group()"
   ]
  },
  {
   "cell_type": "code",
   "execution_count": 23,
   "metadata": {},
   "outputs": [],
   "source": [
    "## remove user handle\n",
    "\n",
    "tweets_nouser = [re.sub('@\\w+','', twt) for twt in tweets_lower]"
   ]
  },
  {
   "cell_type": "code",
   "execution_count": 24,
   "metadata": {},
   "outputs": [
    {
     "data": {
      "text/plain": [
       "['stocks losses deepen as a key recession warning surfaces  #economy #fail #collapse #recession #gop #greed… https://t.co/f8kazaixuk',\n",
       " \"rt : the #economy.\\r\\n  \\r\\n#trump is an ejit.\\r\\n#maga #trumptrain2020 #sheeple are idiot's.\\r\\n#farming #trad…\",\n",
       " 'ap explains: is the us economy nearing a recession? \\r\\n#business\\r\\n#economy\\r\\n#recession\\r\\n#tradewar\\r\\n#china\\r\\n#eu… https://t.co/0jtsr2ksxi',\n",
       " 'a  / https://t.co/jxet7hqu4k survey completed tuesday, 56% rated the #economy as good or excellent,… https://t.co/j1xmiptadx',\n",
       " 'who will stop mr. mario draghi and the ecb with this counterproductive course of money dumping / zero interests? it… https://t.co/eweirvuok0']"
      ]
     },
     "execution_count": 24,
     "metadata": {},
     "output_type": "execute_result"
    }
   ],
   "source": [
    "tweets_nouser[:5]"
   ]
  },
  {
   "cell_type": "code",
   "execution_count": 25,
   "metadata": {},
   "outputs": [
    {
     "data": {
      "text/plain": [
       "'ap explains: is the us economy nearing a recession? \\r\\n#business\\r\\n#economy\\r\\n#recession\\r\\n#tradewar\\r\\n#china\\r\\n#eu… https://t.co/0jtsr2ksxi'"
      ]
     },
     "execution_count": 25,
     "metadata": {},
     "output_type": "execute_result"
    }
   ],
   "source": [
    "## remove usrls\n",
    "tweets_nouser[2]"
   ]
  },
  {
   "cell_type": "code",
   "execution_count": 27,
   "metadata": {},
   "outputs": [
    {
     "data": {
      "text/plain": [
       "'https://t.co/0jtsr2ksxi'"
      ]
     },
     "execution_count": 27,
     "metadata": {},
     "output_type": "execute_result"
    }
   ],
   "source": [
    "re.search('\\w+://\\S+',tweets_nouser[2]).group()"
   ]
  },
  {
   "cell_type": "code",
   "execution_count": 28,
   "metadata": {},
   "outputs": [],
   "source": [
    "tweets_nouser1 = [re.sub('\\w+://\\S+','',twt) for twt in tweets_nouser]"
   ]
  },
  {
   "cell_type": "code",
   "execution_count": 29,
   "metadata": {},
   "outputs": [
    {
     "data": {
      "text/plain": [
       "['stocks losses deepen as a key recession warning surfaces  #economy #fail #collapse #recession #gop #greed… ',\n",
       " \"rt : the #economy.\\r\\n  \\r\\n#trump is an ejit.\\r\\n#maga #trumptrain2020 #sheeple are idiot's.\\r\\n#farming #trad…\",\n",
       " 'ap explains: is the us economy nearing a recession? \\r\\n#business\\r\\n#economy\\r\\n#recession\\r\\n#tradewar\\r\\n#china\\r\\n#eu… ',\n",
       " 'a  /  survey completed tuesday, 56% rated the #economy as good or excellent,… ',\n",
       " 'who will stop mr. mario draghi and the ecb with this counterproductive course of money dumping / zero interests? it… ']"
      ]
     },
     "execution_count": 29,
     "metadata": {},
     "output_type": "execute_result"
    }
   ],
   "source": [
    "tweets_nouser1[:5]"
   ]
  },
  {
   "cell_type": "code",
   "execution_count": 31,
   "metadata": {},
   "outputs": [
    {
     "data": {
      "text/plain": [
       "'stocks losses deepen as a key recession warning surfaces  #economy #fail #collapse #recession #gop #greed… '"
      ]
     },
     "execution_count": 31,
     "metadata": {},
     "output_type": "execute_result"
    }
   ],
   "source": [
    "#find all hastag\n",
    "tweets_nouser1[0]"
   ]
  },
  {
   "cell_type": "code",
   "execution_count": 33,
   "metadata": {},
   "outputs": [
    {
     "data": {
      "text/plain": [
       "['#economy', '#fail', '#collapse', '#recession', '#gop', '#greed']"
      ]
     },
     "execution_count": 33,
     "metadata": {},
     "output_type": "execute_result"
    }
   ],
   "source": [
    "re.findall('#\\w+',tweets_nouser1[0])"
   ]
  },
  {
   "cell_type": "code",
   "execution_count": 34,
   "metadata": {},
   "outputs": [],
   "source": [
    "tweets_hastag = [re.findall('#\\w+',twt) for twt in tweets_nouser1]"
   ]
  },
  {
   "cell_type": "code",
   "execution_count": 35,
   "metadata": {
    "scrolled": true
   },
   "outputs": [
    {
     "data": {
      "text/plain": [
       "[['#economy', '#fail', '#collapse', '#recession', '#gop', '#greed'],\n",
       " ['#economy',\n",
       "  '#trump',\n",
       "  '#maga',\n",
       "  '#trumptrain2020',\n",
       "  '#sheeple',\n",
       "  '#farming',\n",
       "  '#trad'],\n",
       " ['#business', '#economy', '#recession', '#tradewar', '#china', '#eu'],\n",
       " ['#economy'],\n",
       " [],\n",
       " ['#economy', '#learnenglish', '#businessenglish'],\n",
       " ['#futures',\n",
       "  '#trade',\n",
       "  '#earnings',\n",
       "  '#currency',\n",
       "  '#trading',\n",
       "  '#forex',\n",
       "  '#fx',\n",
       "  '#markets',\n",
       "  '#economy'],\n",
       " [],\n",
       " ['#economy', '#trump'],\n",
       " ['#economy', '#trump', '#maga', '#trumptrain2020', '#sheeple', '#farming'],\n",
       " ['#floods2019'],\n",
       " [],\n",
       " [],\n",
       " [],\n",
       " [],\n",
       " ['#thursday',\n",
       "  '#conversationsdailynews',\n",
       "  '#news',\n",
       "  '#truthoftheday',\n",
       "  '#music',\n",
       "  '#singer'],\n",
       " ['#invertedyieldcurve'],\n",
       " [],\n",
       " ['#economy', '#472'],\n",
       " ['#economy', '#134'],\n",
       " ['#economy', '#140'],\n",
       " ['#economy', '#785'],\n",
       " ['#economy'],\n",
       " ['#economy', '#tollways'],\n",
       " ['#travel'],\n",
       " [],\n",
       " ['#china'],\n",
       " ['#fintech'],\n",
       " ['#company'],\n",
       " ['#altcoins', '#bitcoin'],\n",
       " [],\n",
       " ['#china'],\n",
       " ['#economy'],\n",
       " ['#retweet', '#poverty', '#ows', '#teaparty', '#economy'],\n",
       " ['#experience', '#economy'],\n",
       " [],\n",
       " ['#economy', '#stocksdrop'],\n",
       " ['#ekonomi', '#economy', '#sanayi', '#üretim'],\n",
       " [],\n",
       " [],\n",
       " [],\n",
       " ['#consumers', '#generationz'],\n",
       " ['#inversion', '#recession'],\n",
       " ['#inversion', '#recession'],\n",
       " ['#markets', '#yield', '#curve'],\n",
       " ['#ekonomi', '#economy', '#sanayi'],\n",
       " [],\n",
       " ['#markets',\n",
       "  '#finance',\n",
       "  '#technology',\n",
       "  '#network',\n",
       "  '#weekend',\n",
       "  '#software',\n",
       "  '#economy',\n",
       "  '#investment'],\n",
       " ['#berniesanders', '#bernie', '#trump', '#maga', '#economy'],\n",
       " ['#markets',\n",
       "  '#finance',\n",
       "  '#technology',\n",
       "  '#network',\n",
       "  '#weekend',\n",
       "  '#software',\n",
       "  '#economy',\n",
       "  '#investment'],\n",
       " ['#business', '#economy', '#cash'],\n",
       " [],\n",
       " [],\n",
       " ['#uber',\n",
       "  '#lyft',\n",
       "  '#rideshare',\n",
       "  '#taxi',\n",
       "  '#cryptocurrencynews',\n",
       "  '#blockchainnews',\n",
       "  '#bitcoinnews',\n",
       "  '#economy'],\n",
       " ['#ekonomi', '#economy', '#imalat', '#hizmet', '#pmi', '#ingiltere'],\n",
       " ['#americanairlines', '#united', '#business', '#economy', '#firstclass'],\n",
       " ['#americanairlines', '#united', '#business', '#economy', '#firstclass'],\n",
       " ['#unitedstates',\n",
       "  '#economy',\n",
       "  '#recession',\n",
       "  '#wednesdayafternoon',\n",
       "  '#wednesdaymotivation',\n",
       "  '#wedne'],\n",
       " ['#economicslowdown',\n",
       "  '#economy',\n",
       "  '#us',\n",
       "  '#tradewar',\n",
       "  '#macroecon',\n",
       "  '#treasurynote',\n",
       "  '#tnote',\n",
       "  '#bond',\n",
       "  '#warning',\n",
       "  '#econrecession',\n",
       "  '#recession'],\n",
       " [],\n",
       " ['#economy'],\n",
       " ['#inversion', '#recession'],\n",
       " ['#dogfood', '#sales', '#happy', '#cute'],\n",
       " ['#leasefoundation', '#equipmentfinance'],\n",
       " ['#economy', '#book', '#game', '#amazon', '#world'],\n",
       " [],\n",
       " ['#bankers', '#nevertrumpers', '#antiamerican', '#economy', '#2020elections'],\n",
       " [],\n",
       " ['#futures',\n",
       "  '#trade',\n",
       "  '#earnings',\n",
       "  '#currency',\n",
       "  '#trading',\n",
       "  '#forex',\n",
       "  '#fx',\n",
       "  '#markets',\n",
       "  '#economy'],\n",
       " ['#theinfiniteage', '#dowdrop', '#dowjones', '#stockmarketcrash', '#economy'],\n",
       " [],\n",
       " [],\n",
       " ['#bondmarket'],\n",
       " ['#dawnnews', '#pakistan', '#statebank', '#economy'],\n",
       " ['#economy', '#economics', '#rttnews'],\n",
       " ['#economy', '#economics', '#rttnews'],\n",
       " [],\n",
       " ['#wages', '#productivity'],\n",
       " [],\n",
       " [],\n",
       " [],\n",
       " ['#winning', '#economy', '#maga2020', '#trumpisafraud'],\n",
       " [],\n",
       " [],\n",
       " [],\n",
       " ['#dowjones', '#recession', '#economy', '#hongkong', '#huawei'],\n",
       " [],\n",
       " ['#economy'],\n",
       " [],\n",
       " [],\n",
       " ['#evidence', '#development', '#outcomes'],\n",
       " ['#conservative',\n",
       "  '#snowflake',\n",
       "  '#family',\n",
       "  '#politics',\n",
       "  '#government',\n",
       "  '#religion'],\n",
       " [],\n",
       " ['#business', '#disasters', '#conflict', '#drought', '#smes'],\n",
       " ['#cr17', '#tonygeorgiades', '#fwdeklerk', '#armsdeal', '#corruption'],\n",
       " [],\n",
       " ['#gsm', '#economy'],\n",
       " [],\n",
       " [],\n",
       " ['#bloomberg', '#hongkong'],\n",
       " ['#india', '#economy', '#bjp'],\n",
       " [],\n",
       " ['#economy', '#hongkongairport'],\n",
       " ['#gsm', '#economy', '#2019'],\n",
       " [],\n",
       " ['#sensex', '#nifty', '#yesbank'],\n",
       " ['#xenophobic', '#africa'],\n",
       " ['#economy', '#economi'],\n",
       " [],\n",
       " ['#india', '#economy', '#bjp'],\n",
       " [],\n",
       " ['#xauusd',\n",
       "  '#trading',\n",
       "  '#fx',\n",
       "  '#fxtrading',\n",
       "  '#topdownapproach',\n",
       "  '#support',\n",
       "  '#resistance'],\n",
       " [],\n",
       " [],\n",
       " ['#business', '#economy'],\n",
       " ['#business', '#economy'],\n",
       " [],\n",
       " ['#economy'],\n",
       " [],\n",
       " ['#country', '#finance', '#economy'],\n",
       " ['#economy', '#stocks', '#recession2019'],\n",
       " ['#economy'],\n",
       " ['#happyrakshabandhan',\n",
       "  '#rakshabandhan2019',\n",
       "  '#india',\n",
       "  '#visionmechatronics',\n",
       "  '#lithium',\n",
       "  '#batteries',\n",
       "  '#liberate',\n",
       "  '#gogreen',\n",
       "  '#ecofriendly',\n",
       "  '#eco'],\n",
       " ['#economy'],\n",
       " ['#business', '#economy'],\n",
       " ['#media'],\n",
       " [],\n",
       " [],\n",
       " [],\n",
       " [],\n",
       " [],\n",
       " [],\n",
       " ['#happyrakshabandhan',\n",
       "  '#rakshabandhan2019',\n",
       "  '#india',\n",
       "  '#visionmechatronics',\n",
       "  '#lithium',\n",
       "  '#batteries',\n",
       "  '#liberate',\n",
       "  '#gogreen'],\n",
       " [],\n",
       " ['#happyindependenceday',\n",
       "  '#indiaindependenceday',\n",
       "  '#visionmechatronics',\n",
       "  '#lithium',\n",
       "  '#batteries',\n",
       "  '#energy',\n",
       "  '#freedom',\n",
       "  '#liberate',\n",
       "  '#gogreen',\n",
       "  '#e'],\n",
       " [],\n",
       " ['#scotland'],\n",
       " ['#economy'],\n",
       " [],\n",
       " ['#economy', '#challenges'],\n",
       " [],\n",
       " [],\n",
       " [],\n",
       " ['#intelligence',\n",
       "  '#economy',\n",
       "  '#digitization',\n",
       "  '#futureofwork',\n",
       "  '#technology'],\n",
       " [],\n",
       " [],\n",
       " ['#ai',\n",
       "  '#economy',\n",
       "  '#ml',\n",
       "  '#datascience',\n",
       "  '#robotics',\n",
       "  '#healthtech',\n",
       "  '#drones',\n",
       "  '#4ir'],\n",
       " [],\n",
       " [],\n",
       " [],\n",
       " ['#business', '#disasters', '#conflict', '#drought', '#smes'],\n",
       " [],\n",
       " [],\n",
       " [],\n",
       " ['#economy', '#820'],\n",
       " [],\n",
       " ['#economy', '#trumprecession'],\n",
       " ['#economy', '#223'],\n",
       " ['#economy', '#567'],\n",
       " ['#economy', '#840'],\n",
       " [],\n",
       " [],\n",
       " ['#economy', '#economics', '#rttnews'],\n",
       " ['#economy', '#economics', '#rttnews'],\n",
       " ['#economy', '#economics', '#rttnews'],\n",
       " ['#economy', '#economics', '#rttnews'],\n",
       " ['#happyindependenceday',\n",
       "  '#indiaindependenceday',\n",
       "  '#visionmechatronics',\n",
       "  '#lithium',\n",
       "  '#batteries',\n",
       "  '#energy',\n",
       "  '#freedom',\n",
       "  '#liberate'],\n",
       " [],\n",
       " ['#markets'],\n",
       " [],\n",
       " [],\n",
       " [],\n",
       " ['#presidenttrump', '#economy', '#stockmarket'],\n",
       " ['#crown', '#economy'],\n",
       " [],\n",
       " ['#china', '#economy'],\n",
       " ['#economy'],\n",
       " ['#resistance', '#trumpslump'],\n",
       " ['#economy'],\n",
       " ['#china', '#economy'],\n",
       " ['#depa'],\n",
       " ['#tourism', '#economy'],\n",
       " ['#economy'],\n",
       " [],\n",
       " ['#peterdruckerforum', '#linkedin', '#collaborationeconomy', '#economy'],\n",
       " [],\n",
       " ['#china', '#economy'],\n",
       " ['#bitcoin', '#cryptocurrency'],\n",
       " ['#economy'],\n",
       " ['#depa', '#digital', '#innovation'],\n",
       " [],\n",
       " ['#uk', '#retail'],\n",
       " ['#india', '#economy', '#bjp'],\n",
       " ['#economy', '#singapore'],\n",
       " [],\n",
       " ['#economy'],\n",
       " [],\n",
       " ['#china', '#economy'],\n",
       " ['#buhari', '#ban', '#economy'],\n",
       " ['#economy', '#267'],\n",
       " ['#economy', '#537'],\n",
       " ['#lla', '#smallbusiness', '#business'],\n",
       " ['#economy', '#543'],\n",
       " ['#recession', '#economy'],\n",
       " ['#recession', '#economy'],\n",
       " ['#recession', '#usa', '#uk', '#economy'],\n",
       " ['#economy'],\n",
       " ['#amazon', '#american', '#economy', '#fedex'],\n",
       " ['#recruitertwitter'],\n",
       " ['#dogfood', '#sales', '#happy', '#cute'],\n",
       " ['#samp', '#economy', '#marketscreener'],\n",
       " ['#india', '#economy', '#bjp'],\n",
       " ['#india', '#economy', '#bjp'],\n",
       " ['#resistance', '#trumpslump'],\n",
       " ['#traitortrump', '#economy', '#deficits', '#tradewars', '#trumpslum'],\n",
       " ['#recession', '#economy'],\n",
       " ['#recession', '#usa', '#uk', '#economy'],\n",
       " ['#primeminister', '#economy', '#india', '#infrastructure'],\n",
       " [],\n",
       " [],\n",
       " [],\n",
       " [],\n",
       " ['#economy'],\n",
       " ['#india', '#economy', '#bjp'],\n",
       " ['#stockmarket', '#economy'],\n",
       " ['#stockmarket', '#economy'],\n",
       " ['#economy', '#recession'],\n",
       " [],\n",
       " ['#recession', '#economy'],\n",
       " ['#president', '#economy', '#southafrica'],\n",
       " [],\n",
       " [],\n",
       " ['#unitedstates', '#weak'],\n",
       " [],\n",
       " [],\n",
       " ['#india', '#economy', '#bjp'],\n",
       " ['#stockmarket', '#economy'],\n",
       " [],\n",
       " ['#bloomberg', '#hongkong'],\n",
       " [],\n",
       " [],\n",
       " ['#pm',\n",
       "  '#modi',\n",
       "  '#announces',\n",
       "  '#outlay',\n",
       "  '#rs',\n",
       "  '#lakh',\n",
       "  '#crores',\n",
       "  '#roadmap',\n",
       "  '#trillion',\n",
       "  '#economy'],\n",
       " ['#economy'],\n",
       " ['#economy'],\n",
       " ['#dawnnews', '#pakistan', '#economy'],\n",
       " ['#businesses', '#westmidlands', '#safeguard', '#create', '#jobs'],\n",
       " ['#nseexpoforum',\n",
       "  '#satellites',\n",
       "  '#environment',\n",
       "  '#space',\n",
       "  '#technology',\n",
       "  '#innovation'],\n",
       " ['#belarus', '#economy'],\n",
       " [],\n",
       " ['#recession'],\n",
       " ['#trumprecession'],\n",
       " ['#economy', '#militarily', '#israel', '#strategi'],\n",
       " ['#schroedingerstarrifs'],\n",
       " ['#buhari', '#ban', '#economy'],\n",
       " ['#economy', '#inequality'],\n",
       " ['#economy', '#incompetent', '#president', '#trump'],\n",
       " [],\n",
       " [],\n",
       " [],\n",
       " ['#resistance', '#trumpslump'],\n",
       " ['#dawnnews', '#pakistan', '#economy'],\n",
       " [],\n",
       " [],\n",
       " ['#economy'],\n",
       " ['#cryptocurrency', '#business', '#cannabis', '#cbd', '#economy'],\n",
       " ['#bitcoin', '#economy'],\n",
       " [],\n",
       " ['#economy'],\n",
       " ['#economy', '#tourism'],\n",
       " ['#buhari', '#ban', '#economy'],\n",
       " [],\n",
       " ['#bitcoin', '#economy'],\n",
       " [],\n",
       " ['#army'],\n",
       " ['#leicester', '#leicestershire', '#economy', '#eastmindlands'],\n",
       " ['#economy'],\n",
       " ['#economy', '#tourism'],\n",
       " ['#women', '#economy'],\n",
       " [],\n",
       " [],\n",
       " ['#economy', '#trump', '#bernie', '#berniesanders'],\n",
       " [],\n",
       " ['#bloomberg', '#hongkong'],\n",
       " ['#economy', '#म'],\n",
       " ['#infoblaze', '#india', '#business', '#economy', '#bigdata', '#gdp'],\n",
       " ['#recession', '#trump'],\n",
       " [],\n",
       " ['#economysquare', '#financial', '#economy'],\n",
       " ['#indonesia'],\n",
       " ['#economysquare'],\n",
       " [],\n",
       " ['#economy'],\n",
       " ['#china', '#chinese', '#tradewar'],\n",
       " ['#china', '#chinese', '#tradewar'],\n",
       " [],\n",
       " ['#economy'],\n",
       " ['#economy', '#jammuandkashmir'],\n",
       " ['#donaldtrump', '#tradewar'],\n",
       " [],\n",
       " ['#bloomberg', '#hongkong'],\n",
       " ['#economy'],\n",
       " ['#economy', '#economi'],\n",
       " ['#traitortrump', '#economy', '#deficits', '#tradewars', '#trumpslum'],\n",
       " [],\n",
       " ['#bloomberg', '#hongkong'],\n",
       " ['#economy'],\n",
       " [],\n",
       " ['#serbia', '#gfdi', '#economy'],\n",
       " ['#resistance', '#trumpslump'],\n",
       " ['#economy'],\n",
       " ['#road', '#rail'],\n",
       " [],\n",
       " ['#traitortrump', '#economy', '#deficits', '#tradewars', '#trumpslum'],\n",
       " ['#german', '#economy', '#china'],\n",
       " ['#bloomberg', '#hongkong'],\n",
       " ['#bloomberg', '#hongkong'],\n",
       " ['#lebanon',\n",
       "  '#beirut',\n",
       "  '#politics',\n",
       "  '#economy',\n",
       "  '#commerce',\n",
       "  '#funny',\n",
       "  '#daily',\n",
       "  '#media',\n",
       "  '#crazy',\n",
       "  '#science',\n",
       "  '#food'],\n",
       " ['#bitcoin', '#economy'],\n",
       " ['#bloomberg', '#hongkong'],\n",
       " ['#markets',\n",
       "  '#finance',\n",
       "  '#technology',\n",
       "  '#network',\n",
       "  '#weekend',\n",
       "  '#software',\n",
       "  '#economy',\n",
       "  '#investment'],\n",
       " ['#hardball', '#t'],\n",
       " [],\n",
       " ['#stocks', '#recession'],\n",
       " ['#ukeconomy', '#economy'],\n",
       " ['#economy', '#morganstanley', '#chinaus', '#tradewar', '#tradewars'],\n",
       " [],\n",
       " ['#işsizlik', '#istihdam', '#employment', '#economy'],\n",
       " ['#economy', '#304'],\n",
       " ['#economy', '#284'],\n",
       " ['#dogfood', '#sales', '#happy', '#cute'],\n",
       " ['#lakeerie',\n",
       "  '#future',\n",
       "  '#cleanwater',\n",
       "  '#economy',\n",
       "  '#publichealth',\n",
       "  '#environment'],\n",
       " [],\n",
       " ['#crowdfunding',\n",
       "  '#realestate',\n",
       "  '#smart',\n",
       "  '#innovation',\n",
       "  '#digital',\n",
       "  '#economy'],\n",
       " ['#transition',\n",
       "  '#netzero',\n",
       "  '#economy',\n",
       "  '#business',\n",
       "  '#unions',\n",
       "  '#government',\n",
       "  '#communities'],\n",
       " ['#economy'],\n",
       " ['#bloomberg', '#hongkong'],\n",
       " [],\n",
       " ['#hair_fuhrer',\n",
       "  '#rats_ass',\n",
       "  '#farmers',\n",
       "  '#himself',\n",
       "  '#wealthy_welfare_queen_donor'],\n",
       " ['#economy'],\n",
       " [],\n",
       " ['#bloomberg', '#hongkong'],\n",
       " ['#maine'],\n",
       " ['#economy', '#brexit'],\n",
       " ['#bloomberg', '#hongkong'],\n",
       " [],\n",
       " ['#economy', '#म'],\n",
       " ['#primeminister', '#economy', '#india', '#infrastructure'],\n",
       " ['#icis', '#themarket', '#fertilizer', '#economy', '#reces'],\n",
       " ['#bloomberg', '#hongkong'],\n",
       " ['#hardball', '#t'],\n",
       " ['#hungary', '#deficit', '#economy', '#balance'],\n",
       " [],\n",
       " ['#economy'],\n",
       " ['#economy', '#markets'],\n",
       " [],\n",
       " ['#economy'],\n",
       " ['#resistance', '#trumpslump'],\n",
       " [],\n",
       " [],\n",
       " ['#bloomberg', '#hongkong'],\n",
       " ['#resistance', '#trumpslump'],\n",
       " ['#economy', '#521'],\n",
       " ['#economy', '#241'],\n",
       " ['#economy', '#416'],\n",
       " ['#americans', '#economy', '#consumer'],\n",
       " [],\n",
       " ['#businesses', '#westmidlands', '#safeguard', '#create', '#jobs'],\n",
       " ['#economy'],\n",
       " ['#businesses', '#westmidlands', '#safeguard', '#create', '#jobs'],\n",
       " ['#bloomberg', '#hongkong'],\n",
       " ['#pmmodi', '#economy', '#sitharaman', '#financeministry'],\n",
       " ['#bloomberg', '#hongkong'],\n",
       " ['#economy'],\n",
       " ['#lebanon',\n",
       "  '#beirut',\n",
       "  '#politics',\n",
       "  '#economy',\n",
       "  '#commerce',\n",
       "  '#funny',\n",
       "  '#daily',\n",
       "  '#media',\n",
       "  '#crazy',\n",
       "  '#science',\n",
       "  '#food'],\n",
       " ['#internationaltrade', '#economy', '#technology'],\n",
       " ['#internationaltrade', '#economy', '#technology'],\n",
       " [],\n",
       " ['#china', '#economy'],\n",
       " ['#minimumwage',\n",
       "  '#politics',\n",
       "  '#government',\n",
       "  '#capitalism',\n",
       "  '#socialism',\n",
       "  '#socialistanyday'],\n",
       " ['#uae', '#dubai', '#dxb', '#tax', '#finance', '#economy', '#money'],\n",
       " ['#recession', '#recession2019', '#economicslowdown', '#economy'],\n",
       " [],\n",
       " ['#trump'],\n",
       " [],\n",
       " ['#idiot', '#stockmarket', '#economy', '#itstheeconomystupid'],\n",
       " ['#lloydsoflondon', '#cyberattack', '#economy'],\n",
       " ['#lloydsoflondon', '#cyberattack', '#economy', '#enterprise'],\n",
       " [],\n",
       " ['#primeminister', '#economy', '#india', '#infrastructure'],\n",
       " [],\n",
       " ['#primeminister', '#economy', '#india', '#infrastructure'],\n",
       " ['#economy'],\n",
       " ['#stockmarket', '#economy'],\n",
       " ['#bitcoin', '#economy'],\n",
       " [],\n",
       " ['#lloydsoflondon', '#cyberattack', '#economy'],\n",
       " [],\n",
       " ['#bitcoin', '#economy'],\n",
       " [],\n",
       " ['#economy'],\n",
       " [],\n",
       " [],\n",
       " [],\n",
       " ['#zepak', '#environment', '#health', '#economy'],\n",
       " [],\n",
       " [],\n",
       " ['#china'],\n",
       " ['#economy'],\n",
       " [],\n",
       " [],\n",
       " ['#trump', '#economy'],\n",
       " ['#cr17', '#tonygeorgiades', '#fwdeklerk', '#armsdeal', '#corruption'],\n",
       " ['#economy'],\n",
       " ['#hemp', '#economy'],\n",
       " ['#hemp', '#economy'],\n",
       " ['#pm',\n",
       "  '#modi',\n",
       "  '#announces',\n",
       "  '#outlay',\n",
       "  '#rs',\n",
       "  '#lakh',\n",
       "  '#crores',\n",
       "  '#roadmap',\n",
       "  '#trillion',\n",
       "  '#economy'],\n",
       " ['#uk', '#economy'],\n",
       " [],\n",
       " ['#trumponomics', '#republiconomics', '#recession', '#economy'],\n",
       " ['#markets', '#economy', '#bolsa'],\n",
       " ['#economy', '#business'],\n",
       " [],\n",
       " ['#cr17', '#tonygeorgiades', '#fwdeklerk', '#armsdeal', '#corruption'],\n",
       " ['#economy'],\n",
       " [],\n",
       " ['#traitortrump', '#economy', '#deficits', '#tradewars', '#trumpslum'],\n",
       " ['#economy'],\n",
       " ['#africa', '#businesses', '#investment'],\n",
       " [],\n",
       " ['#politicians', '#bureaucracy'],\n",
       " ['#economy'],\n",
       " ['#nigeria', '#news', '#economy'],\n",
       " ['#breaking', '#hongkong', '#economy'],\n",
       " ['#nigeria', '#news', '#economy'],\n",
       " [],\n",
       " [],\n",
       " [],\n",
       " ['#uzbekistan', '#esp'],\n",
       " [],\n",
       " ['#msn'],\n",
       " ['#news', '#ニュース', '#government', '#政治', '#economy', '#経済', '#jamjamtv'],\n",
       " ['#nikkei', '#thursday'],\n",
       " [],\n",
       " ['#minimumwage', '#medium', '#blog', '#essay', '#economics', '#government'],\n",
       " ['#economy', '#business'],\n",
       " ['#data'],\n",
       " ['#data'],\n",
       " ['#facts', '#thread', '#iran', '#economy', '#blacklistirgc', '#corrup'],\n",
       " ['#facts', '#thread', '#iran', '#economy', '#blacklistirgc'],\n",
       " ['#icis', '#themarket', '#fertilizer', '#economy', '#reces'],\n",
       " ['#dogfood', '#sales', '#happy', '#cute'],\n",
       " ['#trump'],\n",
       " ['#cr17', '#tonygeorgiades', '#fwdeklerk', '#armsdeal', '#corruption'],\n",
       " ['#recession', '#economy'],\n",
       " ['#economy', '#wrecking', '#recession', '#brexit'],\n",
       " [],\n",
       " ['#india', '#economy', '#world', '#m'],\n",
       " [],\n",
       " ['#treasurybond', '#in'],\n",
       " ['#economy', '#business'],\n",
       " ['#economy', '#business'],\n",
       " ['#federalreserve', '#economy', '#economics', '#currencytrading'],\n",
       " ['#traitortrump', '#economy', '#deficits', '#tradewars', '#trumpslum'],\n",
       " [],\n",
       " [],\n",
       " ['#beltandroad', '#economy', '#infrastructure'],\n",
       " ['#news', '#economy', '#politics'],\n",
       " ['#economy', '#economi'],\n",
       " ['#icis', '#themarket', '#fertilizer', '#economy', '#recession'],\n",
       " [],\n",
       " ['#economy', '#german'],\n",
       " [],\n",
       " [],\n",
       " ['#economy', '#671'],\n",
       " ['#investing', '#world', '#economy', '#global'],\n",
       " ['#investing', '#world', '#economy', '#global'],\n",
       " ['#investing', '#world', '#economy', '#global'],\n",
       " ['#investing', '#world', '#economy', '#global'],\n",
       " ['#investing', '#world', '#economy', '#global'],\n",
       " ['#economy', '#50'],\n",
       " ['#economy', '#131'],\n",
       " ['#economics', '#economy'],\n",
       " [],\n",
       " ['#economy'],\n",
       " ['#economy'],\n",
       " ['#economy'],\n",
       " ['#primeminister', '#economy', '#india', '#infrastructure'],\n",
       " ['#2018',\n",
       "  '#medium',\n",
       "  '#blog',\n",
       "  '#politics',\n",
       "  '#government',\n",
       "  '#tax',\n",
       "  '#economy',\n",
       "  '#finance'],\n",
       " [],\n",
       " ['#financialcrisis', '#economy', '#recession', '#wallstreet', '#dow'],\n",
       " ['#primeminister', '#economy', '#india', '#infrastructure'],\n",
       " ['#economy', '#business'],\n",
       " ['#india', '#economy', '#world', '#m'],\n",
       " [],\n",
       " ['#primeminister', '#economy', '#india', '#infrastructure'],\n",
       " [],\n",
       " ['#lebanon',\n",
       "  '#beirut',\n",
       "  '#politics',\n",
       "  '#economy',\n",
       "  '#commerce',\n",
       "  '#funny',\n",
       "  '#daily',\n",
       "  '#media',\n",
       "  '#crazy',\n",
       "  '#science',\n",
       "  '#food'],\n",
       " [],\n",
       " ['#facts', '#thread', '#iran', '#economy', '#blacklistirgc', '#corrupti'],\n",
       " ['#primeminister', '#economy', '#india', '#infrastructure']]"
      ]
     },
     "execution_count": 35,
     "metadata": {},
     "output_type": "execute_result"
    }
   ],
   "source": [
    "tweets_hastag"
   ]
  },
  {
   "cell_type": "code",
   "execution_count": 42,
   "metadata": {},
   "outputs": [],
   "source": [
    "all_hastag = []\n",
    "for twt in tweets_hastag:\n",
    "    all_hastag.extend(twt)\n"
   ]
  },
  {
   "cell_type": "code",
   "execution_count": 43,
   "metadata": {},
   "outputs": [
    {
     "data": {
      "text/plain": [
       "['#economy', '#fail', '#collapse', '#recession', '#gop']"
      ]
     },
     "execution_count": 43,
     "metadata": {},
     "output_type": "execute_result"
    }
   ],
   "source": [
    "all_hastag[:5]"
   ]
  },
  {
   "cell_type": "code",
   "execution_count": 44,
   "metadata": {},
   "outputs": [
    {
     "data": {
      "text/plain": [
       "1061"
      ]
     },
     "execution_count": 44,
     "metadata": {},
     "output_type": "execute_result"
    }
   ],
   "source": [
    "len(all_hastag)"
   ]
  },
  {
   "cell_type": "code",
   "execution_count": 39,
   "metadata": {},
   "outputs": [],
   "source": [
    "## remove #economy"
   ]
  },
  {
   "cell_type": "code",
   "execution_count": 47,
   "metadata": {},
   "outputs": [],
   "source": [
    "str1 = '#economy'\n",
    "all_hastag = [tag for tag in all_hastag if tag not in str1]"
   ]
  },
  {
   "cell_type": "code",
   "execution_count": 48,
   "metadata": {},
   "outputs": [
    {
     "data": {
      "text/plain": [
       "813"
      ]
     },
     "execution_count": 48,
     "metadata": {},
     "output_type": "execute_result"
    }
   ],
   "source": [
    "len(all_hastag)"
   ]
  },
  {
   "cell_type": "code",
   "execution_count": 49,
   "metadata": {},
   "outputs": [
    {
     "data": {
      "text/plain": [
       "['#fail', '#collapse', '#recession', '#gop', '#greed']"
      ]
     },
     "execution_count": 49,
     "metadata": {},
     "output_type": "execute_result"
    }
   ],
   "source": [
    "all_hastag[:5]"
   ]
  },
  {
   "cell_type": "code",
   "execution_count": 50,
   "metadata": {},
   "outputs": [],
   "source": [
    "from collections import Counter"
   ]
  },
  {
   "cell_type": "code",
   "execution_count": 52,
   "metadata": {},
   "outputs": [],
   "source": [
    "counts_hastag = Counter(all_hastag)"
   ]
  },
  {
   "cell_type": "code",
   "execution_count": 60,
   "metadata": {},
   "outputs": [],
   "source": [
    "res=counts_hastag.most_common(10)"
   ]
  },
  {
   "cell_type": "code",
   "execution_count": 63,
   "metadata": {},
   "outputs": [],
   "source": [
    "res2 = {term:cnt for term, cnt in res}"
   ]
  },
  {
   "cell_type": "code",
   "execution_count": 57,
   "metadata": {},
   "outputs": [],
   "source": [
    "import matplotlib.pyplot as plt"
   ]
  },
  {
   "cell_type": "code",
   "execution_count": 65,
   "metadata": {},
   "outputs": [
    {
     "data": {
      "image/png": "[encoded data removed]",
      "text/plain": [
       "<Figure size 432x288 with 1 Axes>"
      ]
     },
     "metadata": {
      "needs_background": "light"
     },
     "output_type": "display_data"
    }
   ],
   "source": [
    "plt.barh(list(res2.keys()), list(res2.values()),)\n",
    "plt.show()"
   ]
  },
  {
   "cell_type": "code",
   "execution_count": null,
   "metadata": {},
   "outputs": [],
   "source": []
  }
 ],
 "metadata": {
  "kernelspec": {
   "display_name": "Python 3",
   "language": "python",
   "name": "python3"
  },
  "language_info": {
   "codemirror_mode": {
    "name": "ipython",
    "version": 3
   },
   "file_extension": ".py",
   "mimetype": "text/x-python",
   "name": "python",
   "nbconvert_exporter": "python",
   "pygments_lexer": "ipython3",
   "version": "3.8.6"
  }
 },
 "nbformat": 4,
 "nbformat_minor": 4
}
